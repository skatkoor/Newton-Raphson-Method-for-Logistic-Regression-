{
 "cells": [
  {
   "cell_type": "code",
   "execution_count": 22,
   "id": "26ca2cc4",
   "metadata": {},
   "outputs": [],
   "source": [
    "import pandas as pd\n",
    "import numpy as np\n",
    "import matplotlib.pyplot as plt\n",
    "%matplotlib inline\n",
    "from sklearn.model_selection import train_test_split\n",
    "from sklearn.linear_model import LogisticRegression\n",
    "import re\n",
    "from sklearn import metrics \n",
    "from sklearn.metrics import accuracy_score"
   ]
  },
  {
   "cell_type": "markdown",
   "id": "efc0f596",
   "metadata": {},
   "source": [
    "Giving names to the rows"
   ]
  },
  {
   "cell_type": "code",
   "execution_count": 2,
   "id": "6794d74f",
   "metadata": {},
   "outputs": [],
   "source": [
    "df_col = ['id','Clump_Thickness','Uniformity_of_Cell_Size','Uniformity_of_Cell_Shape','Marginal_Adhesion','Single_Epithelial_Cell_Size','1.3','Bland_Chromatin','Normal_Nucleoli','Mitoses','Cancer_Type']"
   ]
  },
  {
   "cell_type": "markdown",
   "id": "44e8df89",
   "metadata": {},
   "source": [
    "Importing data"
   ]
  },
  {
   "cell_type": "code",
   "execution_count": 3,
   "id": "9d362040",
   "metadata": {},
   "outputs": [
    {
     "data": {
      "text/html": [
       "<div>\n",
       "<style scoped>\n",
       "    .dataframe tbody tr th:only-of-type {\n",
       "        vertical-align: middle;\n",
       "    }\n",
       "\n",
       "    .dataframe tbody tr th {\n",
       "        vertical-align: top;\n",
       "    }\n",
       "\n",
       "    .dataframe thead th {\n",
       "        text-align: right;\n",
       "    }\n",
       "</style>\n",
       "<table border=\"1\" class=\"dataframe\">\n",
       "  <thead>\n",
       "    <tr style=\"text-align: right;\">\n",
       "      <th></th>\n",
       "      <th>id</th>\n",
       "      <th>Clump_Thickness</th>\n",
       "      <th>Uniformity_of_Cell_Size</th>\n",
       "      <th>Uniformity_of_Cell_Shape</th>\n",
       "      <th>Marginal_Adhesion</th>\n",
       "      <th>Single_Epithelial_Cell_Size</th>\n",
       "      <th>1.3</th>\n",
       "      <th>Bland_Chromatin</th>\n",
       "      <th>Normal_Nucleoli</th>\n",
       "      <th>Mitoses</th>\n",
       "      <th>Cancer_Type</th>\n",
       "    </tr>\n",
       "  </thead>\n",
       "  <tbody>\n",
       "    <tr>\n",
       "      <th>0</th>\n",
       "      <td>1000025</td>\n",
       "      <td>5</td>\n",
       "      <td>1</td>\n",
       "      <td>1</td>\n",
       "      <td>1</td>\n",
       "      <td>2</td>\n",
       "      <td>1</td>\n",
       "      <td>3</td>\n",
       "      <td>1</td>\n",
       "      <td>1</td>\n",
       "      <td>2</td>\n",
       "    </tr>\n",
       "    <tr>\n",
       "      <th>1</th>\n",
       "      <td>1002945</td>\n",
       "      <td>5</td>\n",
       "      <td>4</td>\n",
       "      <td>4</td>\n",
       "      <td>5</td>\n",
       "      <td>7</td>\n",
       "      <td>10</td>\n",
       "      <td>3</td>\n",
       "      <td>2</td>\n",
       "      <td>1</td>\n",
       "      <td>2</td>\n",
       "    </tr>\n",
       "    <tr>\n",
       "      <th>2</th>\n",
       "      <td>1015425</td>\n",
       "      <td>3</td>\n",
       "      <td>1</td>\n",
       "      <td>1</td>\n",
       "      <td>1</td>\n",
       "      <td>2</td>\n",
       "      <td>2</td>\n",
       "      <td>3</td>\n",
       "      <td>1</td>\n",
       "      <td>1</td>\n",
       "      <td>2</td>\n",
       "    </tr>\n",
       "  </tbody>\n",
       "</table>\n",
       "</div>"
      ],
      "text/plain": [
       "        id  Clump_Thickness  Uniformity_of_Cell_Size  \\\n",
       "0  1000025                5                        1   \n",
       "1  1002945                5                        4   \n",
       "2  1015425                3                        1   \n",
       "\n",
       "   Uniformity_of_Cell_Shape  Marginal_Adhesion  Single_Epithelial_Cell_Size  \\\n",
       "0                         1                  1                            2   \n",
       "1                         4                  5                            7   \n",
       "2                         1                  1                            2   \n",
       "\n",
       "  1.3  Bland_Chromatin  Normal_Nucleoli  Mitoses  Cancer_Type  \n",
       "0   1                3                1        1            2  \n",
       "1  10                3                2        1            2  \n",
       "2   2                3                1        1            2  "
      ]
     },
     "execution_count": 3,
     "metadata": {},
     "output_type": "execute_result"
    }
   ],
   "source": [
    "df = pd.read_csv(r'C:\\Users\\Sumanth\\OneDrive\\UAB\\Fall 2022\\Machine Learning\\Newton Raphson\\breast_cancer_wisconsin.data',encoding='latin-1',names=df_col)\n",
    "df.head(3)"
   ]
  },
  {
   "cell_type": "markdown",
   "id": "f2e01e13",
   "metadata": {},
   "source": [
    "2 for benign, 4 for malignant"
   ]
  },
  {
   "cell_type": "code",
   "execution_count": 4,
   "id": "82d811a8",
   "metadata": {},
   "outputs": [
    {
     "data": {
      "text/plain": [
       "(699, 11)"
      ]
     },
     "execution_count": 4,
     "metadata": {},
     "output_type": "execute_result"
    }
   ],
   "source": [
    "df.shape"
   ]
  },
  {
   "cell_type": "code",
   "execution_count": 5,
   "id": "22b84ee2",
   "metadata": {},
   "outputs": [
    {
     "data": {
      "text/html": [
       "<div>\n",
       "<style scoped>\n",
       "    .dataframe tbody tr th:only-of-type {\n",
       "        vertical-align: middle;\n",
       "    }\n",
       "\n",
       "    .dataframe tbody tr th {\n",
       "        vertical-align: top;\n",
       "    }\n",
       "\n",
       "    .dataframe thead th {\n",
       "        text-align: right;\n",
       "    }\n",
       "</style>\n",
       "<table border=\"1\" class=\"dataframe\">\n",
       "  <thead>\n",
       "    <tr style=\"text-align: right;\">\n",
       "      <th></th>\n",
       "      <th>id</th>\n",
       "      <th>Clump_Thickness</th>\n",
       "      <th>Uniformity_of_Cell_Size</th>\n",
       "      <th>Uniformity_of_Cell_Shape</th>\n",
       "      <th>Marginal_Adhesion</th>\n",
       "      <th>Single_Epithelial_Cell_Size</th>\n",
       "      <th>Bland_Chromatin</th>\n",
       "      <th>Normal_Nucleoli</th>\n",
       "      <th>Mitoses</th>\n",
       "      <th>Cancer_Type</th>\n",
       "    </tr>\n",
       "  </thead>\n",
       "  <tbody>\n",
       "    <tr>\n",
       "      <th>id</th>\n",
       "      <td>1.000000</td>\n",
       "      <td>-0.055308</td>\n",
       "      <td>-0.041603</td>\n",
       "      <td>-0.041576</td>\n",
       "      <td>-0.064878</td>\n",
       "      <td>-0.045528</td>\n",
       "      <td>-0.060051</td>\n",
       "      <td>-0.052072</td>\n",
       "      <td>-0.034901</td>\n",
       "      <td>-0.080226</td>\n",
       "    </tr>\n",
       "    <tr>\n",
       "      <th>Clump_Thickness</th>\n",
       "      <td>-0.055308</td>\n",
       "      <td>1.000000</td>\n",
       "      <td>0.644913</td>\n",
       "      <td>0.654589</td>\n",
       "      <td>0.486356</td>\n",
       "      <td>0.521816</td>\n",
       "      <td>0.558428</td>\n",
       "      <td>0.535835</td>\n",
       "      <td>0.350034</td>\n",
       "      <td>0.716001</td>\n",
       "    </tr>\n",
       "    <tr>\n",
       "      <th>Uniformity_of_Cell_Size</th>\n",
       "      <td>-0.041603</td>\n",
       "      <td>0.644913</td>\n",
       "      <td>1.000000</td>\n",
       "      <td>0.906882</td>\n",
       "      <td>0.705582</td>\n",
       "      <td>0.751799</td>\n",
       "      <td>0.755721</td>\n",
       "      <td>0.722865</td>\n",
       "      <td>0.458693</td>\n",
       "      <td>0.817904</td>\n",
       "    </tr>\n",
       "    <tr>\n",
       "      <th>Uniformity_of_Cell_Shape</th>\n",
       "      <td>-0.041576</td>\n",
       "      <td>0.654589</td>\n",
       "      <td>0.906882</td>\n",
       "      <td>1.000000</td>\n",
       "      <td>0.683079</td>\n",
       "      <td>0.719668</td>\n",
       "      <td>0.735948</td>\n",
       "      <td>0.719446</td>\n",
       "      <td>0.438911</td>\n",
       "      <td>0.818934</td>\n",
       "    </tr>\n",
       "    <tr>\n",
       "      <th>Marginal_Adhesion</th>\n",
       "      <td>-0.064878</td>\n",
       "      <td>0.486356</td>\n",
       "      <td>0.705582</td>\n",
       "      <td>0.683079</td>\n",
       "      <td>1.000000</td>\n",
       "      <td>0.599599</td>\n",
       "      <td>0.666715</td>\n",
       "      <td>0.603352</td>\n",
       "      <td>0.417633</td>\n",
       "      <td>0.696800</td>\n",
       "    </tr>\n",
       "    <tr>\n",
       "      <th>Single_Epithelial_Cell_Size</th>\n",
       "      <td>-0.045528</td>\n",
       "      <td>0.521816</td>\n",
       "      <td>0.751799</td>\n",
       "      <td>0.719668</td>\n",
       "      <td>0.599599</td>\n",
       "      <td>1.000000</td>\n",
       "      <td>0.616102</td>\n",
       "      <td>0.628881</td>\n",
       "      <td>0.479101</td>\n",
       "      <td>0.682785</td>\n",
       "    </tr>\n",
       "    <tr>\n",
       "      <th>Bland_Chromatin</th>\n",
       "      <td>-0.060051</td>\n",
       "      <td>0.558428</td>\n",
       "      <td>0.755721</td>\n",
       "      <td>0.735948</td>\n",
       "      <td>0.666715</td>\n",
       "      <td>0.616102</td>\n",
       "      <td>1.000000</td>\n",
       "      <td>0.665878</td>\n",
       "      <td>0.344169</td>\n",
       "      <td>0.756616</td>\n",
       "    </tr>\n",
       "    <tr>\n",
       "      <th>Normal_Nucleoli</th>\n",
       "      <td>-0.052072</td>\n",
       "      <td>0.535835</td>\n",
       "      <td>0.722865</td>\n",
       "      <td>0.719446</td>\n",
       "      <td>0.603352</td>\n",
       "      <td>0.628881</td>\n",
       "      <td>0.665878</td>\n",
       "      <td>1.000000</td>\n",
       "      <td>0.428336</td>\n",
       "      <td>0.712244</td>\n",
       "    </tr>\n",
       "    <tr>\n",
       "      <th>Mitoses</th>\n",
       "      <td>-0.034901</td>\n",
       "      <td>0.350034</td>\n",
       "      <td>0.458693</td>\n",
       "      <td>0.438911</td>\n",
       "      <td>0.417633</td>\n",
       "      <td>0.479101</td>\n",
       "      <td>0.344169</td>\n",
       "      <td>0.428336</td>\n",
       "      <td>1.000000</td>\n",
       "      <td>0.423170</td>\n",
       "    </tr>\n",
       "    <tr>\n",
       "      <th>Cancer_Type</th>\n",
       "      <td>-0.080226</td>\n",
       "      <td>0.716001</td>\n",
       "      <td>0.817904</td>\n",
       "      <td>0.818934</td>\n",
       "      <td>0.696800</td>\n",
       "      <td>0.682785</td>\n",
       "      <td>0.756616</td>\n",
       "      <td>0.712244</td>\n",
       "      <td>0.423170</td>\n",
       "      <td>1.000000</td>\n",
       "    </tr>\n",
       "  </tbody>\n",
       "</table>\n",
       "</div>"
      ],
      "text/plain": [
       "                                   id  Clump_Thickness  \\\n",
       "id                           1.000000        -0.055308   \n",
       "Clump_Thickness             -0.055308         1.000000   \n",
       "Uniformity_of_Cell_Size     -0.041603         0.644913   \n",
       "Uniformity_of_Cell_Shape    -0.041576         0.654589   \n",
       "Marginal_Adhesion           -0.064878         0.486356   \n",
       "Single_Epithelial_Cell_Size -0.045528         0.521816   \n",
       "Bland_Chromatin             -0.060051         0.558428   \n",
       "Normal_Nucleoli             -0.052072         0.535835   \n",
       "Mitoses                     -0.034901         0.350034   \n",
       "Cancer_Type                 -0.080226         0.716001   \n",
       "\n",
       "                             Uniformity_of_Cell_Size  \\\n",
       "id                                         -0.041603   \n",
       "Clump_Thickness                             0.644913   \n",
       "Uniformity_of_Cell_Size                     1.000000   \n",
       "Uniformity_of_Cell_Shape                    0.906882   \n",
       "Marginal_Adhesion                           0.705582   \n",
       "Single_Epithelial_Cell_Size                 0.751799   \n",
       "Bland_Chromatin                             0.755721   \n",
       "Normal_Nucleoli                             0.722865   \n",
       "Mitoses                                     0.458693   \n",
       "Cancer_Type                                 0.817904   \n",
       "\n",
       "                             Uniformity_of_Cell_Shape  Marginal_Adhesion  \\\n",
       "id                                          -0.041576          -0.064878   \n",
       "Clump_Thickness                              0.654589           0.486356   \n",
       "Uniformity_of_Cell_Size                      0.906882           0.705582   \n",
       "Uniformity_of_Cell_Shape                     1.000000           0.683079   \n",
       "Marginal_Adhesion                            0.683079           1.000000   \n",
       "Single_Epithelial_Cell_Size                  0.719668           0.599599   \n",
       "Bland_Chromatin                              0.735948           0.666715   \n",
       "Normal_Nucleoli                              0.719446           0.603352   \n",
       "Mitoses                                      0.438911           0.417633   \n",
       "Cancer_Type                                  0.818934           0.696800   \n",
       "\n",
       "                             Single_Epithelial_Cell_Size  Bland_Chromatin  \\\n",
       "id                                             -0.045528        -0.060051   \n",
       "Clump_Thickness                                 0.521816         0.558428   \n",
       "Uniformity_of_Cell_Size                         0.751799         0.755721   \n",
       "Uniformity_of_Cell_Shape                        0.719668         0.735948   \n",
       "Marginal_Adhesion                               0.599599         0.666715   \n",
       "Single_Epithelial_Cell_Size                     1.000000         0.616102   \n",
       "Bland_Chromatin                                 0.616102         1.000000   \n",
       "Normal_Nucleoli                                 0.628881         0.665878   \n",
       "Mitoses                                         0.479101         0.344169   \n",
       "Cancer_Type                                     0.682785         0.756616   \n",
       "\n",
       "                             Normal_Nucleoli   Mitoses  Cancer_Type  \n",
       "id                                 -0.052072 -0.034901    -0.080226  \n",
       "Clump_Thickness                     0.535835  0.350034     0.716001  \n",
       "Uniformity_of_Cell_Size             0.722865  0.458693     0.817904  \n",
       "Uniformity_of_Cell_Shape            0.719446  0.438911     0.818934  \n",
       "Marginal_Adhesion                   0.603352  0.417633     0.696800  \n",
       "Single_Epithelial_Cell_Size         0.628881  0.479101     0.682785  \n",
       "Bland_Chromatin                     0.665878  0.344169     0.756616  \n",
       "Normal_Nucleoli                     1.000000  0.428336     0.712244  \n",
       "Mitoses                             0.428336  1.000000     0.423170  \n",
       "Cancer_Type                         0.712244  0.423170     1.000000  "
      ]
     },
     "execution_count": 5,
     "metadata": {},
     "output_type": "execute_result"
    }
   ],
   "source": [
    "df.corr()"
   ]
  },
  {
   "cell_type": "markdown",
   "id": "3e16ce09",
   "metadata": {},
   "source": [
    "From the correlation we get to know that the row id has nothing to do with the end result and can be removed"
   ]
  },
  {
   "cell_type": "code",
   "execution_count": 6,
   "id": "2bf78596",
   "metadata": {},
   "outputs": [
    {
     "data": {
      "text/plain": [
       "0     1\n",
       "1    10\n",
       "2     2\n",
       "Name: 1.3, dtype: object"
      ]
     },
     "execution_count": 6,
     "metadata": {},
     "output_type": "execute_result"
    }
   ],
   "source": [
    "df['1.3'].head(3)"
   ]
  },
  {
   "cell_type": "markdown",
   "id": "24ec29ed",
   "metadata": {},
   "source": [
    "Removing the columns with '?'"
   ]
  },
  {
   "cell_type": "code",
   "execution_count": 7,
   "id": "c6be52ed",
   "metadata": {},
   "outputs": [
    {
     "data": {
      "text/plain": [
       "array(['1', '10', '2', '4', '3', '9', '7', '5', '8', '6'], dtype=object)"
      ]
     },
     "execution_count": 7,
     "metadata": {},
     "output_type": "execute_result"
    }
   ],
   "source": [
    "df1 = df.drop('id',axis = 1)\n",
    "df2 = df1[df1['1.3'] == '?']\n",
    "df3 = df1.drop([23,40,139,145,158,164,235,249,275,292,294,297,315,321,411,617])\n",
    "df3['1.3'].unique()"
   ]
  },
  {
   "cell_type": "code",
   "execution_count": 8,
   "id": "b8eaab85",
   "metadata": {},
   "outputs": [
    {
     "data": {
      "text/plain": [
       "Clump_Thickness                 int64\n",
       "Uniformity_of_Cell_Size         int64\n",
       "Uniformity_of_Cell_Shape        int64\n",
       "Marginal_Adhesion               int64\n",
       "Single_Epithelial_Cell_Size     int64\n",
       "1.3                            object\n",
       "Bland_Chromatin                 int64\n",
       "Normal_Nucleoli                 int64\n",
       "Mitoses                         int64\n",
       "Cancer_Type                     int64\n",
       "dtype: object"
      ]
     },
     "execution_count": 8,
     "metadata": {},
     "output_type": "execute_result"
    }
   ],
   "source": [
    "df3.dtypes"
   ]
  },
  {
   "cell_type": "code",
   "execution_count": 9,
   "id": "1601eb22",
   "metadata": {},
   "outputs": [
    {
     "data": {
      "text/html": [
       "<div>\n",
       "<style scoped>\n",
       "    .dataframe tbody tr th:only-of-type {\n",
       "        vertical-align: middle;\n",
       "    }\n",
       "\n",
       "    .dataframe tbody tr th {\n",
       "        vertical-align: top;\n",
       "    }\n",
       "\n",
       "    .dataframe thead th {\n",
       "        text-align: right;\n",
       "    }\n",
       "</style>\n",
       "<table border=\"1\" class=\"dataframe\">\n",
       "  <thead>\n",
       "    <tr style=\"text-align: right;\">\n",
       "      <th></th>\n",
       "      <th>Clump_Thickness</th>\n",
       "      <th>Uniformity_of_Cell_Size</th>\n",
       "      <th>Uniformity_of_Cell_Shape</th>\n",
       "      <th>Marginal_Adhesion</th>\n",
       "      <th>Single_Epithelial_Cell_Size</th>\n",
       "      <th>1.3</th>\n",
       "      <th>Bland_Chromatin</th>\n",
       "      <th>Normal_Nucleoli</th>\n",
       "      <th>Mitoses</th>\n",
       "      <th>Cancer_Type</th>\n",
       "    </tr>\n",
       "  </thead>\n",
       "  <tbody>\n",
       "    <tr>\n",
       "      <th>23</th>\n",
       "      <td>8</td>\n",
       "      <td>4</td>\n",
       "      <td>5</td>\n",
       "      <td>1</td>\n",
       "      <td>2</td>\n",
       "      <td>?</td>\n",
       "      <td>7</td>\n",
       "      <td>3</td>\n",
       "      <td>1</td>\n",
       "      <td>4</td>\n",
       "    </tr>\n",
       "    <tr>\n",
       "      <th>40</th>\n",
       "      <td>6</td>\n",
       "      <td>6</td>\n",
       "      <td>6</td>\n",
       "      <td>9</td>\n",
       "      <td>6</td>\n",
       "      <td>?</td>\n",
       "      <td>7</td>\n",
       "      <td>8</td>\n",
       "      <td>1</td>\n",
       "      <td>2</td>\n",
       "    </tr>\n",
       "    <tr>\n",
       "      <th>139</th>\n",
       "      <td>1</td>\n",
       "      <td>1</td>\n",
       "      <td>1</td>\n",
       "      <td>1</td>\n",
       "      <td>1</td>\n",
       "      <td>?</td>\n",
       "      <td>2</td>\n",
       "      <td>1</td>\n",
       "      <td>1</td>\n",
       "      <td>2</td>\n",
       "    </tr>\n",
       "    <tr>\n",
       "      <th>145</th>\n",
       "      <td>1</td>\n",
       "      <td>1</td>\n",
       "      <td>3</td>\n",
       "      <td>1</td>\n",
       "      <td>2</td>\n",
       "      <td>?</td>\n",
       "      <td>2</td>\n",
       "      <td>1</td>\n",
       "      <td>1</td>\n",
       "      <td>2</td>\n",
       "    </tr>\n",
       "    <tr>\n",
       "      <th>158</th>\n",
       "      <td>1</td>\n",
       "      <td>1</td>\n",
       "      <td>2</td>\n",
       "      <td>1</td>\n",
       "      <td>3</td>\n",
       "      <td>?</td>\n",
       "      <td>1</td>\n",
       "      <td>1</td>\n",
       "      <td>1</td>\n",
       "      <td>2</td>\n",
       "    </tr>\n",
       "  </tbody>\n",
       "</table>\n",
       "</div>"
      ],
      "text/plain": [
       "     Clump_Thickness  Uniformity_of_Cell_Size  Uniformity_of_Cell_Shape  \\\n",
       "23                 8                        4                         5   \n",
       "40                 6                        6                         6   \n",
       "139                1                        1                         1   \n",
       "145                1                        1                         3   \n",
       "158                1                        1                         2   \n",
       "\n",
       "     Marginal_Adhesion  Single_Epithelial_Cell_Size 1.3  Bland_Chromatin  \\\n",
       "23                   1                            2   ?                7   \n",
       "40                   9                            6   ?                7   \n",
       "139                  1                            1   ?                2   \n",
       "145                  1                            2   ?                2   \n",
       "158                  1                            3   ?                1   \n",
       "\n",
       "     Normal_Nucleoli  Mitoses  Cancer_Type  \n",
       "23                 3        1            4  \n",
       "40                 8        1            2  \n",
       "139                1        1            2  \n",
       "145                1        1            2  \n",
       "158                1        1            2  "
      ]
     },
     "execution_count": 9,
     "metadata": {},
     "output_type": "execute_result"
    }
   ],
   "source": [
    "df2.head()"
   ]
  },
  {
   "cell_type": "code",
   "execution_count": 10,
   "id": "f5f03e33",
   "metadata": {},
   "outputs": [
    {
     "data": {
      "text/plain": [
       "array(['1', '10', '2', '4', '3', '9', '7', '5', '8', '6'], dtype=object)"
      ]
     },
     "execution_count": 10,
     "metadata": {},
     "output_type": "execute_result"
    }
   ],
   "source": [
    "df3['1.3'].unique()"
   ]
  },
  {
   "cell_type": "markdown",
   "id": "d3e5f6bb",
   "metadata": {},
   "source": [
    "Converting the datatype from object to float"
   ]
  },
  {
   "cell_type": "code",
   "execution_count": 11,
   "id": "cef8d771",
   "metadata": {},
   "outputs": [
    {
     "data": {
      "text/html": [
       "<div>\n",
       "<style scoped>\n",
       "    .dataframe tbody tr th:only-of-type {\n",
       "        vertical-align: middle;\n",
       "    }\n",
       "\n",
       "    .dataframe tbody tr th {\n",
       "        vertical-align: top;\n",
       "    }\n",
       "\n",
       "    .dataframe thead th {\n",
       "        text-align: right;\n",
       "    }\n",
       "</style>\n",
       "<table border=\"1\" class=\"dataframe\">\n",
       "  <thead>\n",
       "    <tr style=\"text-align: right;\">\n",
       "      <th></th>\n",
       "      <th>Clump_Thickness</th>\n",
       "      <th>Uniformity_of_Cell_Size</th>\n",
       "      <th>Uniformity_of_Cell_Shape</th>\n",
       "      <th>Marginal_Adhesion</th>\n",
       "      <th>Single_Epithelial_Cell_Size</th>\n",
       "      <th>1.3</th>\n",
       "      <th>Bland_Chromatin</th>\n",
       "      <th>Normal_Nucleoli</th>\n",
       "      <th>Mitoses</th>\n",
       "      <th>Cancer_Type</th>\n",
       "    </tr>\n",
       "  </thead>\n",
       "  <tbody>\n",
       "    <tr>\n",
       "      <th>0</th>\n",
       "      <td>5.0</td>\n",
       "      <td>1.0</td>\n",
       "      <td>1.0</td>\n",
       "      <td>1.0</td>\n",
       "      <td>2.0</td>\n",
       "      <td>1.0</td>\n",
       "      <td>3.0</td>\n",
       "      <td>1.0</td>\n",
       "      <td>1.0</td>\n",
       "      <td>2.0</td>\n",
       "    </tr>\n",
       "    <tr>\n",
       "      <th>1</th>\n",
       "      <td>5.0</td>\n",
       "      <td>4.0</td>\n",
       "      <td>4.0</td>\n",
       "      <td>5.0</td>\n",
       "      <td>7.0</td>\n",
       "      <td>10.0</td>\n",
       "      <td>3.0</td>\n",
       "      <td>2.0</td>\n",
       "      <td>1.0</td>\n",
       "      <td>2.0</td>\n",
       "    </tr>\n",
       "    <tr>\n",
       "      <th>2</th>\n",
       "      <td>3.0</td>\n",
       "      <td>1.0</td>\n",
       "      <td>1.0</td>\n",
       "      <td>1.0</td>\n",
       "      <td>2.0</td>\n",
       "      <td>2.0</td>\n",
       "      <td>3.0</td>\n",
       "      <td>1.0</td>\n",
       "      <td>1.0</td>\n",
       "      <td>2.0</td>\n",
       "    </tr>\n",
       "    <tr>\n",
       "      <th>3</th>\n",
       "      <td>6.0</td>\n",
       "      <td>8.0</td>\n",
       "      <td>8.0</td>\n",
       "      <td>1.0</td>\n",
       "      <td>3.0</td>\n",
       "      <td>4.0</td>\n",
       "      <td>3.0</td>\n",
       "      <td>7.0</td>\n",
       "      <td>1.0</td>\n",
       "      <td>2.0</td>\n",
       "    </tr>\n",
       "    <tr>\n",
       "      <th>4</th>\n",
       "      <td>4.0</td>\n",
       "      <td>1.0</td>\n",
       "      <td>1.0</td>\n",
       "      <td>3.0</td>\n",
       "      <td>2.0</td>\n",
       "      <td>1.0</td>\n",
       "      <td>3.0</td>\n",
       "      <td>1.0</td>\n",
       "      <td>1.0</td>\n",
       "      <td>2.0</td>\n",
       "    </tr>\n",
       "  </tbody>\n",
       "</table>\n",
       "</div>"
      ],
      "text/plain": [
       "   Clump_Thickness  Uniformity_of_Cell_Size  Uniformity_of_Cell_Shape  \\\n",
       "0              5.0                      1.0                       1.0   \n",
       "1              5.0                      4.0                       4.0   \n",
       "2              3.0                      1.0                       1.0   \n",
       "3              6.0                      8.0                       8.0   \n",
       "4              4.0                      1.0                       1.0   \n",
       "\n",
       "   Marginal_Adhesion  Single_Epithelial_Cell_Size   1.3  Bland_Chromatin  \\\n",
       "0                1.0                          2.0   1.0              3.0   \n",
       "1                5.0                          7.0  10.0              3.0   \n",
       "2                1.0                          2.0   2.0              3.0   \n",
       "3                1.0                          3.0   4.0              3.0   \n",
       "4                3.0                          2.0   1.0              3.0   \n",
       "\n",
       "   Normal_Nucleoli  Mitoses  Cancer_Type  \n",
       "0              1.0      1.0          2.0  \n",
       "1              2.0      1.0          2.0  \n",
       "2              1.0      1.0          2.0  \n",
       "3              7.0      1.0          2.0  \n",
       "4              1.0      1.0          2.0  "
      ]
     },
     "execution_count": 11,
     "metadata": {},
     "output_type": "execute_result"
    }
   ],
   "source": [
    "df5 = df3.replace('[^\\d.]','',regex = True).astype(float)\n",
    "df5.head()"
   ]
  },
  {
   "cell_type": "code",
   "execution_count": 12,
   "id": "11a4d884",
   "metadata": {},
   "outputs": [],
   "source": [
    "df5['Cancer_Type'] = df5['Cancer_Type'].replace(2,0)\n",
    "df5['Cancer_Type'] = df5['Cancer_Type'].replace(4,1)"
   ]
  },
  {
   "cell_type": "code",
   "execution_count": 13,
   "id": "74c3723d",
   "metadata": {},
   "outputs": [
    {
     "data": {
      "text/plain": [
       "Clump_Thickness                float64\n",
       "Uniformity_of_Cell_Size        float64\n",
       "Uniformity_of_Cell_Shape       float64\n",
       "Marginal_Adhesion              float64\n",
       "Single_Epithelial_Cell_Size    float64\n",
       "1.3                            float64\n",
       "Bland_Chromatin                float64\n",
       "Normal_Nucleoli                float64\n",
       "Mitoses                        float64\n",
       "Cancer_Type                    float64\n",
       "dtype: object"
      ]
     },
     "execution_count": 13,
     "metadata": {},
     "output_type": "execute_result"
    }
   ],
   "source": [
    "df5.dtypes"
   ]
  },
  {
   "cell_type": "code",
   "execution_count": 14,
   "id": "49f29436",
   "metadata": {},
   "outputs": [
    {
     "data": {
      "text/plain": [
       "Clump_Thickness                0\n",
       "Uniformity_of_Cell_Size        0\n",
       "Uniformity_of_Cell_Shape       0\n",
       "Marginal_Adhesion              0\n",
       "Single_Epithelial_Cell_Size    0\n",
       "1.3                            0\n",
       "Bland_Chromatin                0\n",
       "Normal_Nucleoli                0\n",
       "Mitoses                        0\n",
       "Cancer_Type                    0\n",
       "dtype: int64"
      ]
     },
     "execution_count": 14,
     "metadata": {},
     "output_type": "execute_result"
    }
   ],
   "source": [
    "df5.isnull().sum()"
   ]
  },
  {
   "attachments": {
    "Screenshot%202022-11-06%20154504-2.png": {
     "image/png": "[encoded data removed]"
    }
   },
   "cell_type": "markdown",
   "id": "f3c01757",
   "metadata": {},
   "source": [
    "![Screenshot%202022-11-06%20154504-2.png](attachment:Screenshot%202022-11-06%20154504-2.png)"
   ]
  },
  {
   "cell_type": "code",
   "execution_count": 15,
   "id": "972e5a92",
   "metadata": {},
   "outputs": [],
   "source": [
    "train_set = 0.8 \n",
    "number_of_split=10\n",
    "Lr_overall = 0 \n",
    "Sk_overall = 0 \n",
    "randomnumbers = np.random.rand(len(df5)) < train_set\n",
    "train_df = df5[randomnumbers]\n",
    "test_df = df5[~randomnumbers]\n",
    "train_x = train_df.drop([\"Cancer_Type\"],axis=1)  \n",
    "train_y = train_df[\"Cancer_Type\"].values\n",
    "test_x = test_df.drop([\"Cancer_Type\"],axis=1)\n",
    "test_y = test_df[\"Cancer_Type\"].values\n",
    "ap = np.array(test_x).shape[0]\n",
    "Intercept = np.ones((ap, 1))"
   ]
  },
  {
   "cell_type": "code",
   "execution_count": 16,
   "id": "1f538504",
   "metadata": {},
   "outputs": [],
   "source": [
    "def prediction (b, X):\n",
    "        X = np.c_[X, Intercept]\n",
    "        z = np.dot(b, X.transpose()) \n",
    "        probability = 1/(1 + np.exp(-z))\n",
    "        predicted_result = [0 if i <0.5 else 1 for i in probability]\n",
    "        \n",
    "        return predicted_result"
   ]
  },
  {
   "cell_type": "code",
   "execution_count": 17,
   "id": "62a9a1c6",
   "metadata": {},
   "outputs": [],
   "source": [
    "def logistic_regr(X,Y):\n",
    "    Iteration_overall=150\n",
    "    Iteration_count=0\n",
    "    conver_tol=0.000000001\n",
    "    final=np.zeros(X.shape[1]+1)\n",
    "    final1=[]\n",
    "    Intercept_X=np.ones((X.shape[0],1))\n",
    "    X=np.c_[X, Intercept_X]\n",
    "    while((Iteration_count<=Iteration_overall)):\n",
    "        Iteration_count+=1\n",
    "        final1=final\n",
    "        z = np.dot(final, X.transpose()) \n",
    "        probability = 1/(1 + np.exp(-z))\n",
    "        grad_descent = np.dot((Y - probability),X)\n",
    "        we = probability*(1-probability)\n",
    "        xP = np.array([i*j for (i,j) in zip(X,we)])\n",
    "        hesian = -1*np.dot(xP.transpose(), X)\n",
    "        final = final - (np.dot(np.linalg.inv(hesian),grad_descent))\n",
    "        fin = np.linalg.norm(final-final1)\n",
    "        if(fin<=conver_tol):\n",
    "            break\n",
    "    return final"
   ]
  },
  {
   "cell_type": "code",
   "execution_count": 18,
   "id": "13da4a68",
   "metadata": {},
   "outputs": [
    {
     "name": "stdout",
     "output_type": "stream",
     "text": [
      "0.96\n",
      "0.96\n",
      "0.96\n",
      "0.96\n",
      "0.96\n",
      "0.96\n",
      "0.96\n",
      "0.96\n",
      "0.96\n",
      "0.96\n"
     ]
    }
   ],
   "source": [
    "for i in range(number_of_split):\n",
    "    final=logistic_regr(np.array(train_x), train_y)\n",
    "    predicted= prediction(final,np.array(test_x))\n",
    "    test_Y = test_y\n",
    "    accuracy  = metrics.accuracy_score(test_Y, predicted)\n",
    "    Lr_overall += accuracy\n",
    "    logistic_regg_avg=Lr_overall/number_of_split \n",
    "    print(round(accuracy,2))"
   ]
  },
  {
   "cell_type": "code",
   "execution_count": 19,
   "id": "2cc47a68",
   "metadata": {},
   "outputs": [],
   "source": [
    "X=df.drop([\"Cancer_Type\",\"1.3\"],axis=1)\n",
    "Y=df['Cancer_Type'].values\n",
    "train_x, test_x, train_y, test_y = train_test_split(X, Y, test_size = 0.2)"
   ]
  },
  {
   "cell_type": "code",
   "execution_count": 20,
   "id": "b4a46eca",
   "metadata": {},
   "outputs": [],
   "source": [
    "for i in range(number_of_split):\n",
    "    logregr= LogisticRegression(max_iter = 150)\n",
    "    logregr.fit(train_x,train_y)\n",
    "    Sk_overall += logregr.score(test_x,test_y)\n",
    "    \n",
    "logistic_Sk_avg=Sk_overall/number_of_split"
   ]
  },
  {
   "cell_type": "markdown",
   "id": "714a837e",
   "metadata": {},
   "source": [
    "Using a solver can increase the efficiency of Sk learn Logistic Regression"
   ]
  },
  {
   "cell_type": "markdown",
   "id": "742dc5e3",
   "metadata": {},
   "source": [
    "Accuracy of Newton method VS Sklearn method"
   ]
  },
  {
   "cell_type": "code",
   "execution_count": 21,
   "id": "8b641c70",
   "metadata": {},
   "outputs": [
    {
     "name": "stdout",
     "output_type": "stream",
     "text": [
      "Newton method : 0.9565217391304348\n",
      "Sklearn Logistic regression: 0.642857142857143\n"
     ]
    }
   ],
   "source": [
    "print('Newton method :',logistic_regg_avg)\n",
    "print('Sklearn Logistic regression:',logistic_Sk_avg)"
   ]
  },
  {
   "cell_type": "code",
   "execution_count": null,
   "id": "1891a725",
   "metadata": {},
   "outputs": [],
   "source": []
  },
  {
   "cell_type": "code",
   "execution_count": null,
   "id": "f95d46f5",
   "metadata": {},
   "outputs": [],
   "source": []
  }
 ],
 "metadata": {
  "kernelspec": {
   "display_name": "Python 3 (ipykernel)",
   "language": "python",
   "name": "python3"
  },
  "language_info": {
   "codemirror_mode": {
    "name": "ipython",
    "version": 3
   },
   "file_extension": ".py",
   "mimetype": "text/x-python",
   "name": "python",
   "nbconvert_exporter": "python",
   "pygments_lexer": "ipython3",
   "version": "3.9.7"
  }
 },
 "nbformat": 4,
 "nbformat_minor": 5
}
